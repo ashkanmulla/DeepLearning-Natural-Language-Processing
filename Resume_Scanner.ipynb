{
  "nbformat": 4,
  "nbformat_minor": 0,
  "metadata": {
    "colab": {
      "name": "Resume Scanner.ipynb",
      "provenance": [],
      "authorship_tag": "ABX9TyM/tmPIaJmhxc0lxBwF8gT6",
      "include_colab_link": true
    },
    "kernelspec": {
      "name": "python3",
      "display_name": "Python 3"
    },
    "language_info": {
      "name": "python"
    }
  },
  "cells": [
    {
      "cell_type": "markdown",
      "metadata": {
        "id": "view-in-github",
        "colab_type": "text"
      },
      "source": [
        "<a href=\"https://colab.research.google.com/github/ashkanmulla/DeepLearning-Natural-Language-Processing/blob/main/Resume_Scanner.ipynb\" target=\"_parent\"><img src=\"https://colab.research.google.com/assets/colab-badge.svg\" alt=\"Open In Colab\"/></a>"
      ]
    },
    {
      "cell_type": "code",
      "execution_count": null,
      "metadata": {
        "colab": {
          "base_uri": "https://localhost:8080/"
        },
        "id": "Iwq8zIBA4xdj",
        "outputId": "4384ea20-90f3-4c14-a2c9-7ea5cdea3fab"
      },
      "outputs": [
        {
          "output_type": "stream",
          "name": "stdout",
          "text": [
            "Collecting docx2txt\n",
            "  Downloading docx2txt-0.8.tar.gz (2.8 kB)\n",
            "Building wheels for collected packages: docx2txt\n",
            "  Building wheel for docx2txt (setup.py) ... \u001b[?25l\u001b[?25hdone\n",
            "  Created wheel for docx2txt: filename=docx2txt-0.8-py3-none-any.whl size=3980 sha256=bfffd179c96f8e2fd34b9c1b016078e90c7da347be7d583d443d1f5d3b487acf\n",
            "  Stored in directory: /root/.cache/pip/wheels/b7/20/b2/473e3aea9a0c0d3e7b2f7bd81d06d0794fec12752733d1f3a8\n",
            "Successfully built docx2txt\n",
            "Installing collected packages: docx2txt\n",
            "Successfully installed docx2txt-0.8\n"
          ]
        }
      ],
      "source": [
        "!pip install docx2txt"
      ]
    },
    {
      "cell_type": "code",
      "source": [
        "import docx2txt"
      ],
      "metadata": {
        "id": "y-7YHyvH44ZG"
      },
      "execution_count": null,
      "outputs": []
    },
    {
      "cell_type": "code",
      "source": [
        "job_description = docx2txt.process('/content/Ashkan Data Science Resume.docx')"
      ],
      "metadata": {
        "id": "rm8nDnnz49SS"
      },
      "execution_count": 23,
      "outputs": []
    },
    {
      "cell_type": "code",
      "source": [
        "resume = docx2txt.process('/content/Ashkan Data Science Resume.docx')"
      ],
      "metadata": {
        "id": "GR-WsX225zFt"
      },
      "execution_count": null,
      "outputs": []
    },
    {
      "cell_type": "code",
      "source": [
        "print(resume)"
      ],
      "metadata": {
        "colab": {
          "base_uri": "https://localhost:8080/"
        },
        "id": "-vMNRfFf6O9a",
        "outputId": "9fc75092-a833-44d4-dabb-a2a692927842"
      },
      "execution_count": null,
      "outputs": [
        {
          "output_type": "stream",
          "name": "stdout",
          "text": [
            "Ashkan Shakil Mulla\t\n",
            "\n",
            "Trainee Data Scientist\n",
            "\n",
            "Data Scientist with 6 months of experience executing data-driven solutions to increase efficiency, accuracy, and utility of internal data processing. Experience at creating data regression models, using predictive data modelling, and analyzing data mining algorithms to deliver insights and implement action-oriented solutions to complex business problems. \n",
            "\n",
            "\n",
            "\n",
            "\n",
            "\n",
            "\n",
            "\n",
            "\n",
            "\n",
            "linkedin.com/ashkanmulla\t\t           DOB: 13, May 1996\n",
            "\n",
            "PAN: CQLPM9098R\n",
            "\n",
            "\n",
            "\n",
            "linkedin.com/ashkanmulla\t\t           DOB: 13, May 1996\n",
            "\n",
            "PAN: CQLPM9098R\n",
            "\n",
            "\n",
            "\n",
            "+91 9619537295\n",
            "\n",
            "+91 9619537295\n",
            "\n",
            "\n",
            "\n",
            "\n",
            "\n",
            "github.com/ashkanmulla\t\t\tPAN: CQLPM9098R\n",
            "\n",
            "github.com/ashkanmulla\t\t\tPAN: CQLPM9098R\n",
            "\n",
            "ashkanmulla@gmail.com\n",
            "\n",
            "ashkanmulla@gmail.com\n",
            "\n",
            "Github.com/ashkanmulla\n",
            "\n",
            "Github.com/ashkanmulla\n",
            "\n",
            "\n",
            "\n",
            "\n",
            "\n",
            "\n",
            "\n",
            "AiVariant Technologies \n",
            "\n",
            "Trainee Data Scientist\n",
            "\n",
            "Project: Air Quality Forecasting (CO2 Emission) \n",
            "\n",
            "\t08/2021 - Present,    \tMumbai\n",
            "\n",
            " Tasks/Capabilities\n",
            "\n",
            "Basic Statistics – Distribution, sampling, Probability, Hypothesis\n",
            "\n",
            "ML Concept– Supervised, unsupervised learning, Benchmark,Evaluation metrics, Optimization, Reinforcement.\n",
            "\n",
            "Python- ML Libraries like Numpy, Pandas, Pandas Profiling, Seaborn, Matplotlib, sklearn, pycaret, Jupiter Notebook.\n",
            "\n",
            "Practice with significance testing, sampling, descriptive and inferential statistics, Bayesian models & Multivariate statistics.\n",
            "\n",
            "Data Visualization using PowerBI, Tableau & QlikView & ggplot.\n",
            "\n",
            "Technical understanding of most commonly used algorithms Linear & Logistic regression, Random Forest, SVM, KNN, K-means etc.\n",
            "\n",
            "\n",
            "\n",
            "Trainee Data Scientist\n",
            "\n",
            "Project: Movie Recommender\n",
            "\n",
            "\t07/2018 - 09/2020,\tMumbai\n",
            "\n",
            "Tasks/Capabilities\n",
            "\n",
            "predictive modelling deep understanding business objective, modeling goals, selecting and preparing data, analyzing and transform data, model selection and deployment models & validate models.\n",
            "\n",
            "Ability to understand a problem statement and implement analytical solutions & techniques independently with leadership.\n",
            "\n",
            "Fast Learner: Ability to learn and pick up a new language/tools/language/frameworks quickly.\n",
            "\n",
            "Undertake preprocessing of structured & unstructured data\n",
            "\n",
            "\n",
            "\n",
            "EDUCATION\n",
            "\n",
            " Mechanical Engineering\n",
            "\n",
            "\n",
            "\n",
            "              Keras\n",
            "\n",
            "              KerasUniversity of Mumbai (2017)\n",
            "\n",
            "\n",
            "\n",
            "         Pycaret\n",
            "\n",
            "         Pycaret\n",
            "\n",
            "Data Science Course (2021)\n",
            "\n",
            "Intellipaat Pvt Ltd (2020)\n",
            "\n",
            "ExcelR Pvt Ltd (2021)\n",
            "\n",
            "Coursera Present\n",
            "\n",
            "\n",
            "\n",
            "TECHNICAL SKILLS\n",
            "\n",
            "\n",
            "\n",
            "Effective written and verbal Communication skills\n",
            "\n",
            "Problem Solving, Critical, Technical, Analytical, Time Management skills\n",
            "\n",
            "Knowledge of current trends in the field of machine learning\n",
            "\n",
            "Ability to perform data wrangling, ETL, Feature Engineering, build , data cleaning, Data manipulating and deploying scalable ML algorithms\n",
            "\n",
            "Effective written and verbal Communication skills\n",
            "\n",
            "Problem Solving, Critical, Technical, Analytical, Time Management skills\n",
            "\n",
            "Knowledge of current trends in the field of machine learning\n",
            "\n",
            "Ability to perform data wrangling, ETL, Feature Engineering, build , data cleaning, Data manipulating and deploying scalable ML algorithms\n",
            "TECHNICAL SKILLS\n",
            "\n",
            "\n",
            "\n",
            "Data Visualization\n",
            "\n",
            "Data Visualization\n",
            "\n",
            "Python & R Language\n",
            "\n",
            "Python & R Language\n",
            "\n",
            "\n",
            "\n",
            "\n",
            "\n",
            "Regression\n",
            "\n",
            "Regression \n",
            "\n",
            "Forecasting\n",
            "\n",
            "Forecasting \n",
            "\n",
            "Supervised\n",
            "\n",
            "Supervised\n",
            "\n",
            "Reinforcement Learning\n",
            "\n",
            "Reinforcement Learning\n",
            "\n",
            "Unsupervised\n",
            "\n",
            "Unsupervised\n",
            "\n",
            "\n",
            "\n",
            "\n",
            "\n",
            "Pandas\n",
            "\n",
            "Pandas \n",
            "\n",
            "Natural Language \n",
            "\n",
            "Natural Language  \n",
            "\n",
            "Random Forest\n",
            "\n",
            "Random Forest\n",
            "\n",
            "\n",
            "\n",
            "\n",
            "\n",
            "Data Manipulation\n",
            "\n",
            "Data Manipulation \n",
            "\n",
            "Classification\n",
            "\n",
            "Classification\n",
            "\n",
            "\n",
            "\n",
            "\n",
            "\n",
            "Statistics & Clustering\n",
            "\n",
            "Statistics & Clustering \n",
            "\n",
            "Hadoop\n",
            "\n",
            "Hadoop \n",
            "\n",
            "EDA\n",
            "\n",
            "EDA\n",
            "\n",
            "\n",
            "\n",
            "\n",
            "\n",
            "Business Analytics\n",
            "\n",
            "Business Analytics \n",
            "\n",
            "Tableau\n",
            "\n",
            "Tableau \n",
            "\n",
            "Data Cleaning\n",
            "\n",
            "Data Cleaning\n",
            "\n",
            "\n",
            "\n",
            "\n",
            "\n",
            "SQL & MongoDB\n",
            "\n",
            "SQL & MongoDB\n",
            "\n",
            "Decision Tree\n",
            "\n",
            "Decision Tree\n",
            "\n",
            "KNN\n",
            "\n",
            "KNN\n",
            "\n",
            "\n",
            "\n",
            "PROJECTS\n",
            "\n",
            "Detection of Fake News\n",
            "\n",
            "Sentiment Analysis\n",
            "\n",
            "Detection of the Parkinson Disease\n",
            "\n",
            "Prediction of Next Word\n",
            "\n",
            "Movie Recommender\n",
            "\n",
            "Customer Segmentation\n",
            "\n",
            "More on (github/ashkanmulla)\n",
            "\n",
            "\n",
            "\n",
            "Python Library Knowledge:\n",
            "\n",
            "\n",
            "\n",
            "NumPy\n",
            "\n",
            "NumPy\n",
            "\n",
            "       Seaborn\n",
            "\n",
            "       Seaborn\n",
            "\n",
            "         Plotly\n",
            "\n",
            "         Plotly\n",
            "\n",
            "         Sklearn\n",
            "\n",
            "         Sklearn\n",
            "\n",
            "         Pandas\n",
            "\n",
            "         Pandas\n",
            "\n",
            "       Matplotlib\n",
            "\n",
            "       Matplotlib\n",
            "\n",
            "       Tensorflow\n",
            "\n",
            "       Tensorflow\n",
            "\n",
            "              SciPy\n",
            "\n",
            "              SciPy\n",
            "\n",
            "\n",
            "\n",
            "\n",
            "\n",
            "\n",
            "\n",
            "Marathi\n",
            "\n",
            "Marathi\n",
            "\n",
            "              Hindi\n",
            "\n",
            "              Hindi\n",
            "\n",
            "              Urdu\n",
            "\n",
            "              Urdu\n",
            "\n",
            "              English\n",
            "\n",
            "              EnglishLANGUAGES\n",
            "\n",
            "\n",
            "\n",
            "\t\n",
            "\n",
            "INTREST \n",
            "\n",
            "Swimming\n",
            "\n",
            "Cricket\n",
            "\n",
            "Cooking\n",
            "\n",
            "INTREST \n",
            "\n",
            "Swimming\n",
            "\n",
            "Cricket\n",
            "\n",
            "CookingEffective Communication\n",
            "\n",
            "\tProject & Time Management\n",
            "\n",
            "\tProblem Solving & Critical Thinking\n",
            "\n",
            "\tTeam Player\n"
          ]
        }
      ]
    },
    {
      "cell_type": "code",
      "source": [
        "content = ['job_description','resume']"
      ],
      "metadata": {
        "id": "NEij1s-X6PCP"
      },
      "execution_count": null,
      "outputs": []
    },
    {
      "cell_type": "code",
      "source": [
        "from sklearn.feature_extraction.text import CountVectorizer\n"
      ],
      "metadata": {
        "id": "McmrHGIV6PJo"
      },
      "execution_count": null,
      "outputs": []
    },
    {
      "cell_type": "code",
      "source": [
        "cv = CountVectorizer()"
      ],
      "metadata": {
        "id": "D-GATnNU6PM9"
      },
      "execution_count": null,
      "outputs": []
    },
    {
      "cell_type": "code",
      "source": [
        "matrix = cv.fit_transform(content)"
      ],
      "metadata": {
        "id": "Fd_d1GSP6PQD"
      },
      "execution_count": null,
      "outputs": []
    },
    {
      "cell_type": "code",
      "source": [
        "from sklearn.metrics.pairwise import cosine_similarity"
      ],
      "metadata": {
        "id": "ml2KlTfc7Uzn"
      },
      "execution_count": null,
      "outputs": []
    },
    {
      "cell_type": "code",
      "source": [
        "similarity_matrix = cosine_similarity(matrix)"
      ],
      "metadata": {
        "id": "NuD3adFR7qkE"
      },
      "execution_count": null,
      "outputs": []
    },
    {
      "cell_type": "code",
      "source": [
        "similarity_matrix"
      ],
      "metadata": {
        "colab": {
          "base_uri": "https://localhost:8080/"
        },
        "id": "Od3wV2M07w6j",
        "outputId": "6bae3f1d-fec9-4af2-b30b-c421c1afa1ab"
      },
      "execution_count": null,
      "outputs": [
        {
          "output_type": "execute_result",
          "data": {
            "text/plain": [
              "array([[1., 0.],\n",
              "       [0., 1.]])"
            ]
          },
          "metadata": {},
          "execution_count": 18
        }
      ]
    },
    {
      "cell_type": "code",
      "source": [
        "print('resume matched by:'+ str(similarity_matrix[1][1]*100) + '%')"
      ],
      "metadata": {
        "colab": {
          "base_uri": "https://localhost:8080/"
        },
        "id": "nMUohqkm7_Dk",
        "outputId": "8ddac375-c3e0-40a6-88e3-88fe92c177c0"
      },
      "execution_count": 25,
      "outputs": [
        {
          "output_type": "stream",
          "name": "stdout",
          "text": [
            "resume matched by:100.0%\n"
          ]
        }
      ]
    },
    {
      "cell_type": "code",
      "source": [
        ""
      ],
      "metadata": {
        "id": "b70zkgCl8a2d"
      },
      "execution_count": null,
      "outputs": []
    }
  ]
}