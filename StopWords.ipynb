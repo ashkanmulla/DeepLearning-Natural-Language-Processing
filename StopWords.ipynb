{
  "nbformat": 4,
  "nbformat_minor": 0,
  "metadata": {
    "kernelspec": {
      "display_name": "Python 3",
      "language": "python",
      "name": "python3"
    },
    "language_info": {
      "codemirror_mode": {
        "name": "ipython",
        "version": 3
      },
      "file_extension": ".py",
      "mimetype": "text/x-python",
      "name": "python",
      "nbconvert_exporter": "python",
      "pygments_lexer": "ipython3",
      "version": "3.6.7"
    },
    "colab": {
      "name": "StopWords.ipynb",
      "provenance": [],
      "collapsed_sections": [],
      "include_colab_link": true
    }
  },
  "cells": [
    {
      "cell_type": "markdown",
      "metadata": {
        "id": "view-in-github",
        "colab_type": "text"
      },
      "source": [
        "<a href=\"https://colab.research.google.com/github/ashkanmulla/DeepLearning-Natural-Language-Processing/blob/main/StopWords.ipynb\" target=\"_parent\"><img src=\"https://colab.research.google.com/assets/colab-badge.svg\" alt=\"Open In Colab\"/></a>"
      ]
    },
    {
      "cell_type": "markdown",
      "metadata": {
        "id": "S5v33WyRCR2S"
      },
      "source": [
        "# Stop Words\n",
        "Stop words are those words that do not contribute to the deeper meaning of the phrase. They are the most common words such as: the, a, and is. For some applications like documentation classification, it may make sense to remove stop words. NLTK provides a list of commonly agreed upon stop words for a variety of languages, such as English.. "
      ]
    },
    {
      "cell_type": "code",
      "metadata": {
        "id": "M1ehwqoXCR2T"
      },
      "source": [
        "# Perform standard imports:\n",
        "import spacy\n",
        "nlp = spacy.load('en_core_web_sm')"
      ],
      "execution_count": 1,
      "outputs": []
    },
    {
      "cell_type": "code",
      "metadata": {
        "id": "0PZAtJwgCVNo",
        "colab": {
          "base_uri": "https://localhost:8080/"
        },
        "outputId": "c6495e6a-cc73-4c36-c6e2-96a9146d6b81"
      },
      "source": [
        "import nltk\n",
        "nltk.download('stopwords')"
      ],
      "execution_count": 2,
      "outputs": [
        {
          "output_type": "stream",
          "name": "stdout",
          "text": [
            "[nltk_data] Downloading package stopwords to /root/nltk_data...\n",
            "[nltk_data]   Unzipping corpora/stopwords.zip.\n"
          ]
        },
        {
          "output_type": "execute_result",
          "data": {
            "text/plain": [
              "True"
            ]
          },
          "metadata": {},
          "execution_count": 2
        }
      ]
    },
    {
      "cell_type": "code",
      "metadata": {
        "id": "O3drpJkBCR2Z",
        "colab": {
          "base_uri": "https://localhost:8080/"
        },
        "outputId": "ea93ad1d-3c2a-44a0-c933-4029ab0dc3f9"
      },
      "source": [
        "# Print the set of spaCy's default stop words (remember that sets are unordered):\n",
        "print(nlp.Defaults.stop_words)"
      ],
      "execution_count": 3,
      "outputs": [
        {
          "output_type": "stream",
          "name": "stdout",
          "text": [
            "{'we', 'meanwhile', 'after', 'but', 'sixty', 'become', 'now', 'might', 'move', 'anyway', '’ll', 'ours', 'amongst', 'will', 'does', 'us', 'until', 'unless', 'call', 'on', 'here', 'thereby', 'namely', 'hereupon', 'should', 'nevertheless', 'ever', \"'s\", 'therein', '’d', 'back', 'everywhere', 'whole', 'this', 'whereupon', 'can', 'take', 'whether', 'being', 'our', 'see', 'have', 'down', 'before', 'myself', 'that', '‘d', 'least', 'even', 'throughout', 'is', 'hence', 'herein', 'several', 'moreover', 'ca', 'are', 'empty', 'themselves', 'and', 'their', 'ten', 'both', 'too', 'n’t', 'ourselves', 'then', 'well', 'below', 'three', 'any', 'whereby', 'while', 'yours', 'nothing', 'latterly', 'together', 'except', 'became', 'side', 'do', 'few', 'upon', 'these', 'still', 'whom', '‘s', 'twenty', 'five', 'nor', 'me', 'her', 'two', 'further', 'i', 'last', 'whither', 'was', '‘ll', 'you', 'very', 'had', 'off', 'than', 'front', '’m', 'toward', 'really', 'most', 'due', 'around', 'none', 'where', 'yet', 'if', 'above', 'somewhere', 'nine', 'top', 'about', 'elsewhere', 'mostly', '‘ve', 'show', 'becomes', 'his', 'one', 'twelve', 'hereafter', 'yourselves', 'anything', 'latter', 'among', 'during', 'herself', 'by', 'afterwards', 'along', \"'re\", 'former', 'mine', 'just', 'whoever', 'nowhere', 'thereupon', '‘re', 'part', 'though', 'quite', '’ve', 'whence', 'get', 'whereas', 'enough', 'thru', 'someone', 'other', 'because', \"n't\", 'not', 'across', 'give', 'he', 'as', 'thus', 'there', 'please', 'same', 'my', 'whose', 'beforehand', 'noone', 'a', 'go', 'every', 'never', 'many', \"'d\", 'towards', 'also', 'no', 'amount', 'formerly', 'fifty', 'put', 'done', 'everything', 'perhaps', 'wherein', 'somehow', 'each', 'six', 'either', 'otherwise', 'seeming', 'make', 'within', 'am', 'doing', 'since', 'always', 'much', 'must', 'own', 'its', 'eight', 'for', 'something', 'others', 'been', 'himself', 'to', \"'ll\", 'seems', 'in', 'hundred', 'over', 'another', 'whenever', 'the', 'were', 're', 'made', 'regarding', 'itself', 'again', 'up', 'seem', 'wherever', 'keep', 'per', 'whereafter', 'anyhow', 'everyone', 'thereafter', 'thence', 'almost', 'be', 'without', 'forty', 'more', 'already', 'however', 'she', 'four', 'under', 'at', 'third', '’s', 'sometime', 'although', 'between', 'an', 'them', 'who', 'name', 'beyond', 'would', 'besides', \"'ve\", 'some', 'seemed', 'once', \"'m\", 'rather', 'it', 'hers', 'used', 'neither', 'him', 'only', 'therefore', 'out', 'using', 'indeed', 'fifteen', 'into', 'less', 'sometimes', 'anywhere', 'against', 'bottom', 'next', 'via', 'often', 'from', 'what', 'why', 'could', 'hereby', 'nobody', 'with', 'all', 'behind', 'such', 'cannot', 'of', 'has', '’re', 'those', 'so', 'say', 'did', 'becoming', 'alone', 'or', 'beside', 'through', 'onto', 'which', 'n‘t', 'full', 'first', 'various', 'serious', 'how', 'may', 'eleven', 'whatever', 'yourself', 'anyone', 'they', '‘m', 'your', 'when', 'else'}\n"
          ]
        }
      ]
    },
    {
      "cell_type": "code",
      "metadata": {
        "id": "diWTTaRICR2g",
        "colab": {
          "base_uri": "https://localhost:8080/"
        },
        "outputId": "f785a086-c862-418c-f09e-d1ab94c7e43d"
      },
      "source": [
        "len(nlp.Defaults.stop_words)"
      ],
      "execution_count": 4,
      "outputs": [
        {
          "output_type": "execute_result",
          "data": {
            "text/plain": [
              "326"
            ]
          },
          "metadata": {},
          "execution_count": 4
        }
      ]
    },
    {
      "cell_type": "markdown",
      "metadata": {
        "id": "tWu19KsbCR2k"
      },
      "source": [
        "## To see if a word is a stop word"
      ]
    },
    {
      "cell_type": "code",
      "metadata": {
        "id": "Sxj_JjAdCR2k",
        "colab": {
          "base_uri": "https://localhost:8080/"
        },
        "outputId": "10cd7634-c724-46ed-8e64-d21b66c8e519"
      },
      "source": [
        "nlp.vocab['myself'].is_stop"
      ],
      "execution_count": 5,
      "outputs": [
        {
          "output_type": "execute_result",
          "data": {
            "text/plain": [
              "True"
            ]
          },
          "metadata": {},
          "execution_count": 5
        }
      ]
    },
    {
      "cell_type": "code",
      "metadata": {
        "id": "Ep_V7bnOCR2o",
        "colab": {
          "base_uri": "https://localhost:8080/"
        },
        "outputId": "220cb4b6-e14a-48c9-ddd0-6d3c108df827"
      },
      "source": [
        "nlp.vocab['Ashkan'].is_stop"
      ],
      "execution_count": 7,
      "outputs": [
        {
          "output_type": "execute_result",
          "data": {
            "text/plain": [
              "False"
            ]
          },
          "metadata": {},
          "execution_count": 7
        }
      ]
    },
    {
      "cell_type": "code",
      "metadata": {
        "id": "U1vIs64dCR2t"
      },
      "source": [
        "# Add the word to the set of stop words. Use lowercase!\n",
        "nlp.Defaults.stop_words.add('mystery')"
      ],
      "execution_count": 8,
      "outputs": []
    },
    {
      "cell_type": "code",
      "metadata": {
        "id": "SQnVv6JEiqHC"
      },
      "source": [
        "# Set the stop_word tag on the lexeme\n",
        "nlp.vocab['mystery'].is_stop = True"
      ],
      "execution_count": 9,
      "outputs": []
    },
    {
      "cell_type": "code",
      "metadata": {
        "id": "IO-WF_1mCR2x",
        "colab": {
          "base_uri": "https://localhost:8080/"
        },
        "outputId": "4c1ac1fe-ca6f-43aa-ab7b-491907a048f2"
      },
      "source": [
        "len(nlp.Defaults.stop_words)"
      ],
      "execution_count": 10,
      "outputs": [
        {
          "output_type": "execute_result",
          "data": {
            "text/plain": [
              "327"
            ]
          },
          "metadata": {},
          "execution_count": 10
        }
      ]
    },
    {
      "cell_type": "code",
      "metadata": {
        "id": "oMMCzOUACR21",
        "colab": {
          "base_uri": "https://localhost:8080/"
        },
        "outputId": "ee8fc4c0-1162-4b65-aab1-73f882d15de7"
      },
      "source": [
        "nlp.vocab['mystery'].is_stop"
      ],
      "execution_count": 11,
      "outputs": [
        {
          "output_type": "execute_result",
          "data": {
            "text/plain": [
              "True"
            ]
          },
          "metadata": {},
          "execution_count": 11
        }
      ]
    },
    {
      "cell_type": "markdown",
      "metadata": {
        "id": "p58rPB42CR24"
      },
      "source": [
        "## To remove a stop word\n",
        "Alternatively, you may decide that `'beyond'` should not be considered a stop word."
      ]
    },
    {
      "cell_type": "code",
      "metadata": {
        "id": "0KEtYBNRCR25"
      },
      "source": [
        "# Remove the word from the set of stop words\n",
        "nlp.Defaults.stop_words.remove('beyond')\n",
        "\n",
        "# Remove the stop_word tag from the lexeme\n",
        "nlp.vocab['beyond'].is_stop = False"
      ],
      "execution_count": 12,
      "outputs": []
    },
    {
      "cell_type": "code",
      "metadata": {
        "id": "iQr5IK3CCR28",
        "colab": {
          "base_uri": "https://localhost:8080/"
        },
        "outputId": "93e4bdee-f8e2-4836-d4ad-4802c02212f4"
      },
      "source": [
        "len(nlp.Defaults.stop_words)"
      ],
      "execution_count": 13,
      "outputs": [
        {
          "output_type": "execute_result",
          "data": {
            "text/plain": [
              "326"
            ]
          },
          "metadata": {},
          "execution_count": 13
        }
      ]
    },
    {
      "cell_type": "code",
      "metadata": {
        "id": "ZLnWlnDQCR2_",
        "colab": {
          "base_uri": "https://localhost:8080/"
        },
        "outputId": "6916db9c-eb2c-45e3-96d7-22aabcf715c2"
      },
      "source": [
        "nlp.vocab['beyond'].is_stop"
      ],
      "execution_count": 14,
      "outputs": [
        {
          "output_type": "execute_result",
          "data": {
            "text/plain": [
              "False"
            ]
          },
          "metadata": {},
          "execution_count": 14
        }
      ]
    },
    {
      "cell_type": "code",
      "metadata": {
        "id": "TCyp1UmXCxgJ",
        "colab": {
          "base_uri": "https://localhost:8080/"
        },
        "outputId": "6e5690d7-5b79-4960-8034-54e15f54840d"
      },
      "source": [
        "import string\n",
        "import re\n",
        "import nltk\n",
        "nltk.download('punkt')\n",
        "from nltk import word_tokenize,sent_tokenize\n",
        "from nltk.corpus import stopwords\n",
        "# load data\n",
        "text = 'The Quick brown fox jump over the lazy dog!'"
      ],
      "execution_count": 15,
      "outputs": [
        {
          "output_type": "stream",
          "name": "stdout",
          "text": [
            "[nltk_data] Downloading package punkt to /root/nltk_data...\n",
            "[nltk_data]   Unzipping tokenizers/punkt.zip.\n"
          ]
        }
      ]
    },
    {
      "cell_type": "code",
      "metadata": {
        "id": "pehkONOeDPd-",
        "colab": {
          "base_uri": "https://localhost:8080/"
        },
        "outputId": "c1cd8c5d-74d6-4993-fd86-fef8b93c50a4"
      },
      "source": [
        "# split into words\n",
        "tokens = word_tokenize(text)\n",
        "print(tokens)"
      ],
      "execution_count": 16,
      "outputs": [
        {
          "output_type": "stream",
          "name": "stdout",
          "text": [
            "['The', 'Quick', 'brown', 'fox', 'jump', 'over', 'the', 'lazy', 'dog', '!']\n"
          ]
        }
      ]
    },
    {
      "cell_type": "code",
      "metadata": {
        "id": "K0zTYJKID--l",
        "colab": {
          "base_uri": "https://localhost:8080/"
        },
        "outputId": "d05436ce-3310-4fda-a899-995a48dd6a86"
      },
      "source": [
        "# convert to lower case\n",
        "tokens = [w.lower() for w in tokens]\n",
        "print(tokens)"
      ],
      "execution_count": 17,
      "outputs": [
        {
          "output_type": "stream",
          "name": "stdout",
          "text": [
            "['the', 'quick', 'brown', 'fox', 'jump', 'over', 'the', 'lazy', 'dog', '!']\n"
          ]
        }
      ]
    },
    {
      "cell_type": "code",
      "metadata": {
        "id": "PXAJpO5hEEcj",
        "colab": {
          "base_uri": "https://localhost:8080/"
        },
        "outputId": "ee7e2de6-ada6-4fc9-a9dd-3a79fbe58ddb"
      },
      "source": [
        "# prepare regex for char filtering\n",
        "re_punc = re.compile('[%s]' % re.escape(string.punctuation))\n",
        "print(re_punc)"
      ],
      "execution_count": 18,
      "outputs": [
        {
          "output_type": "stream",
          "name": "stdout",
          "text": [
            "re.compile('[!\"\\\\#\\\\$%\\\\&\\'\\\\(\\\\)\\\\*\\\\+,\\\\-\\\\./:;<=>\\\\?@\\\\[\\\\\\\\\\\\]\\\\^_`\\\\{\\\\|\\\\}\\\\~]')\n"
          ]
        }
      ]
    },
    {
      "cell_type": "code",
      "metadata": {
        "id": "IRupmyA-EF7z",
        "colab": {
          "base_uri": "https://localhost:8080/"
        },
        "outputId": "f7016d6f-66d9-4902-9a05-6af5cd640a1a"
      },
      "source": [
        "# remove punctuation from each word\n",
        "stripped = [re_punc.sub('', w) for w in tokens]\n",
        "print(stripped)"
      ],
      "execution_count": 19,
      "outputs": [
        {
          "output_type": "stream",
          "name": "stdout",
          "text": [
            "['the', 'quick', 'brown', 'fox', 'jump', 'over', 'the', 'lazy', 'dog', '']\n"
          ]
        }
      ]
    },
    {
      "cell_type": "code",
      "metadata": {
        "id": "c0__AkhWEHPT",
        "colab": {
          "base_uri": "https://localhost:8080/"
        },
        "outputId": "419752e6-ac13-4e82-97c1-0309e5aa9217"
      },
      "source": [
        "# remove remaining tokens that are not alphabetic\n",
        "words = [word for word in stripped if word.isalpha()]\n",
        "print(words)"
      ],
      "execution_count": 20,
      "outputs": [
        {
          "output_type": "stream",
          "name": "stdout",
          "text": [
            "['the', 'quick', 'brown', 'fox', 'jump', 'over', 'the', 'lazy', 'dog']\n"
          ]
        }
      ]
    },
    {
      "cell_type": "code",
      "metadata": {
        "id": "6WYqyINsEIhD",
        "colab": {
          "base_uri": "https://localhost:8080/",
          "height": 34
        },
        "outputId": "1917537b-051f-43e8-bb76-6d741163eecf"
      },
      "source": [
        "# filter out non-stop words\n",
        "stop_words = set(stopwords.words('english'))\n",
        "words = [w for w in words if not w in stop_words]\n",
        "print(words)"
      ],
      "execution_count": null,
      "outputs": [
        {
          "output_type": "stream",
          "text": [
            "['quick', 'brown', 'fox', 'jump', 'lazy', 'dog']\n"
          ],
          "name": "stdout"
        }
      ]
    },
    {
      "cell_type": "code",
      "metadata": {
        "id": "2DdtvLMggo4P",
        "colab": {
          "base_uri": "https://localhost:8080/",
          "height": 34
        },
        "outputId": "e32cca62-64b8-4b6a-8479-330e2b485d90"
      },
      "source": [
        "nlp.vocab['dog'].is_stop"
      ],
      "execution_count": null,
      "outputs": [
        {
          "output_type": "execute_result",
          "data": {
            "text/plain": [
              "False"
            ]
          },
          "metadata": {
            "tags": []
          },
          "execution_count": 26
        }
      ]
    }
  ]
}